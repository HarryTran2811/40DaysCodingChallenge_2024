{
 "cells": [
  {
   "cell_type": "code",
   "execution_count": 1,
   "metadata": {},
   "outputs": [],
   "source": [
    "def calculate_can_chi_calendar(year):\n",
    "    can = [\"Canh\", \"Tần\", \"Nhâm\", \"Quý\", \"Giáp\", \"Ất\", \"Bính\", \"Đinh\", \"Mậu\", \"Kỷ\"]\n",
    "    chi = [\"Thân\", \"Dậu\", \"Tuất\", \"Hợi\", \"Tý\", \"Sửu\", \"Dần\", \"Mão\", \"Thìn\", \"Tỵ\", \"Ngọ\", \"Mùi\"]\n",
    "\n",
    "    can_index = year % 10\n",
    "    chi_index = year % 12\n",
    "\n",
    "    result = can[can_index] + \" \" + chi[chi_index]\n",
    "    return result"
   ]
  },
  {
   "cell_type": "code",
   "execution_count": 2,
   "metadata": {},
   "outputs": [],
   "source": [
    "def calculate_can_chi_calendar(year):\n",
    "    can = chi = \"\"\n",
    "\n",
    "    if year % 10 == 0:\n",
    "        can = \"Canh\"\n",
    "    elif year % 10 == 1:\n",
    "        can = \"Tần\"\n",
    "    elif year % 10 == 2:\n",
    "        can = \"Nhâm\"\n",
    "    elif year % 10 == 3:\n",
    "        can = \"Quý\"\n",
    "    elif year % 10 == 4:\n",
    "        can = \"Giáp\"\n",
    "    elif year % 10 == 5:\n",
    "        can = \"Ất\"\n",
    "    elif year % 10 == 6:\n",
    "        can = \"Bính\"\n",
    "    elif year % 10 == 7:\n",
    "        can = \"Đinh\"\n",
    "    elif year % 10 == 8:\n",
    "        can = \"Mậu\"\n",
    "    elif year % 10 == 9:\n",
    "        can = \"Kỷ\"\n",
    "\n",
    "    if year % 12 == 0:\n",
    "        chi = \"Thân\"\n",
    "    elif year % 12 == 1:\n",
    "        chi = \"Dậu\"\n",
    "    elif year % 12 == 2:\n",
    "        chi = \"Tuất\"\n",
    "    elif year % 12 == 3:\n",
    "        chi = \"Hợi\"\n",
    "    elif year % 12 == 4:\n",
    "        chi = \"Tý\"\n",
    "    elif year % 12 == 5:\n",
    "        chi = \"Sửu\"\n",
    "    elif year % 12 == 6:\n",
    "        chi = \"Dần\"\n",
    "    elif year % 12 == 7:\n",
    "        chi = \"Mão\"\n",
    "    elif year % 12 == 8:\n",
    "        chi = \"Thìn\"\n",
    "    elif year % 12 == 9:\n",
    "        chi = \"Tỵ\"\n",
    "    elif year % 12 == 10:\n",
    "        chi = \"Ngọ\"\n",
    "    elif year % 12 == 11:\n",
    "        chi = \"Mùi\"\n",
    "\n",
    "    result = can + \" \" + chi\n",
    "    return result\n"
   ]
  },
  {
   "cell_type": "code",
   "execution_count": 4,
   "metadata": {},
   "outputs": [
    {
     "name": "stdout",
     "output_type": "stream",
     "text": [
      "All test cases passed\n"
     ]
    }
   ],
   "source": [
    "def test_calculate_can_chi_calendar():\n",
    "    assert calculate_can_chi_calendar(2024) == \"Giáp Thìn\"\n",
    "    assert calculate_can_chi_calendar(2023) == \"Quý Mão\"\n",
    "    assert calculate_can_chi_calendar(1997) == \"Đinh Sửu\"\n",
    "    print(\"All test cases passed\")\n",
    "\n",
    "test_calculate_can_chi_calendar()\n"
   ]
  }
 ],
 "metadata": {
  "kernelspec": {
   "display_name": "Python 3",
   "language": "python",
   "name": "python3"
  },
  "language_info": {
   "codemirror_mode": {
    "name": "ipython",
    "version": 3
   },
   "file_extension": ".py",
   "mimetype": "text/x-python",
   "name": "python",
   "nbconvert_exporter": "python",
   "pygments_lexer": "ipython3",
   "version": "3.10.4"
  }
 },
 "nbformat": 4,
 "nbformat_minor": 2
}
