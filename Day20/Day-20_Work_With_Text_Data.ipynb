{
  "cells": [
    {
      "cell_type": "code",
      "execution_count": 1,
      "metadata": {
        "colab": {
          "base_uri": "https://localhost:8080/"
        },
        "id": "EJXquAweL5r9",
        "outputId": "4bdf450a-08ca-4be9-9eab-4b2761eb295d"
      },
      "outputs": [
        {
          "name": "stdout",
          "output_type": "stream",
          "text": [
            "Collecting newspaper3k\n",
            "  Downloading newspaper3k-0.2.8-py3-none-any.whl (211 kB)\n",
            "     ------------------------------------ 211.1/211.1 KB 917.3 kB/s eta 0:00:00\n",
            "Requirement already satisfied: PyYAML>=3.11 in c:\\users\\admin\\appdata\\local\\programs\\python\\python310\\lib\\site-packages (from newspaper3k) (6.0.1)\n",
            "Requirement already satisfied: requests>=2.10.0 in c:\\users\\admin\\appdata\\local\\programs\\python\\python310\\lib\\site-packages (from newspaper3k) (2.27.1)\n",
            "Collecting feedparser>=5.2.1\n",
            "  Downloading feedparser-6.0.11-py3-none-any.whl (81 kB)\n",
            "     ---------------------------------------- 81.3/81.3 KB 4.4 MB/s eta 0:00:00\n",
            "Collecting tldextract>=2.0.1\n",
            "  Downloading tldextract-5.1.2-py3-none-any.whl (97 kB)\n",
            "     ---------------------------------------- 97.6/97.6 KB 5.5 MB/s eta 0:00:00\n",
            "Requirement already satisfied: beautifulsoup4>=4.4.1 in c:\\users\\admin\\appdata\\local\\programs\\python\\python310\\lib\\site-packages (from newspaper3k) (4.11.1)\n",
            "Collecting cssselect>=0.9.2\n",
            "  Downloading cssselect-1.2.0-py2.py3-none-any.whl (18 kB)\n",
            "Requirement already satisfied: Pillow>=3.3.0 in c:\\users\\admin\\appdata\\local\\programs\\python\\python310\\lib\\site-packages (from newspaper3k) (9.1.1)\n",
            "Requirement already satisfied: nltk>=3.2.1 in c:\\users\\admin\\appdata\\local\\programs\\python\\python310\\lib\\site-packages (from newspaper3k) (3.8.1)\n",
            "Collecting jieba3k>=0.35.1\n",
            "  Downloading jieba3k-0.35.1.zip (7.4 MB)\n",
            "     ---------------------------------------- 7.4/7.4 MB 7.4 MB/s eta 0:00:00\n",
            "  Preparing metadata (setup.py): started\n",
            "  Preparing metadata (setup.py): finished with status 'done'\n",
            "Collecting feedfinder2>=0.0.4\n",
            "  Downloading feedfinder2-0.0.4.tar.gz (3.3 kB)\n",
            "  Preparing metadata (setup.py): started\n",
            "  Preparing metadata (setup.py): finished with status 'done'\n",
            "Requirement already satisfied: python-dateutil>=2.5.3 in c:\\users\\admin\\appdata\\local\\programs\\python\\python310\\lib\\site-packages (from newspaper3k) (2.8.2)\n",
            "Requirement already satisfied: lxml>=3.6.0 in c:\\users\\admin\\appdata\\local\\programs\\python\\python310\\lib\\site-packages (from newspaper3k) (4.8.0)\n",
            "Collecting tinysegmenter==0.3\n",
            "  Downloading tinysegmenter-0.3.tar.gz (16 kB)\n",
            "  Preparing metadata (setup.py): started\n",
            "  Preparing metadata (setup.py): finished with status 'done'\n",
            "Requirement already satisfied: soupsieve>1.2 in c:\\users\\admin\\appdata\\local\\programs\\python\\python310\\lib\\site-packages (from beautifulsoup4>=4.4.1->newspaper3k) (2.3.2.post1)\n",
            "Requirement already satisfied: six in c:\\users\\admin\\appdata\\local\\programs\\python\\python310\\lib\\site-packages (from feedfinder2>=0.0.4->newspaper3k) (1.16.0)\n",
            "Collecting sgmllib3k\n",
            "  Downloading sgmllib3k-1.0.0.tar.gz (5.8 kB)\n",
            "  Preparing metadata (setup.py): started\n",
            "  Preparing metadata (setup.py): finished with status 'done'\n",
            "Requirement already satisfied: click in c:\\users\\admin\\appdata\\local\\programs\\python\\python310\\lib\\site-packages (from nltk>=3.2.1->newspaper3k) (8.0.4)\n",
            "Requirement already satisfied: tqdm in c:\\users\\admin\\appdata\\local\\programs\\python\\python310\\lib\\site-packages (from nltk>=3.2.1->newspaper3k) (4.64.1)\n",
            "Requirement already satisfied: regex>=2021.8.3 in c:\\users\\admin\\appdata\\local\\programs\\python\\python310\\lib\\site-packages (from nltk>=3.2.1->newspaper3k) (2022.9.13)\n",
            "Requirement already satisfied: joblib in c:\\users\\admin\\appdata\\local\\programs\\python\\python310\\lib\\site-packages (from nltk>=3.2.1->newspaper3k) (1.1.0)\n",
            "Requirement already satisfied: idna<4,>=2.5 in c:\\users\\admin\\appdata\\local\\programs\\python\\python310\\lib\\site-packages (from requests>=2.10.0->newspaper3k) (2.10)\n",
            "Requirement already satisfied: charset-normalizer~=2.0.0 in c:\\users\\admin\\appdata\\local\\programs\\python\\python310\\lib\\site-packages (from requests>=2.10.0->newspaper3k) (2.0.12)\n",
            "Requirement already satisfied: urllib3<1.27,>=1.21.1 in c:\\users\\admin\\appdata\\local\\programs\\python\\python310\\lib\\site-packages (from requests>=2.10.0->newspaper3k) (1.26.9)\n",
            "Requirement already satisfied: certifi>=2017.4.17 in c:\\users\\admin\\appdata\\local\\programs\\python\\python310\\lib\\site-packages (from requests>=2.10.0->newspaper3k) (2022.5.18.1)\n",
            "Collecting requests-file>=1.4\n",
            "  Downloading requests_file-2.0.0-py2.py3-none-any.whl (4.2 kB)\n",
            "Requirement already satisfied: filelock>=3.0.8 in c:\\users\\admin\\appdata\\local\\programs\\python\\python310\\lib\\site-packages (from tldextract>=2.0.1->newspaper3k) (3.12.2)\n",
            "Requirement already satisfied: colorama in c:\\users\\admin\\appdata\\roaming\\python\\python310\\site-packages (from click->nltk>=3.2.1->newspaper3k) (0.4.6)\n",
            "Building wheels for collected packages: tinysegmenter, feedfinder2, jieba3k, sgmllib3k\n",
            "  Building wheel for tinysegmenter (setup.py): started\n",
            "  Building wheel for tinysegmenter (setup.py): finished with status 'done'\n",
            "  Created wheel for tinysegmenter: filename=tinysegmenter-0.3-py3-none-any.whl size=13583 sha256=426a244d1cb822faad18420d023a9d7f946d3948318d2f6b4512d97b3918fb52\n",
            "  Stored in directory: c:\\users\\admin\\appdata\\local\\pip\\cache\\wheels\\c8\\d6\\6c\\384f58df48c00b9a31d638005143b5b3ac62c3d25fb1447f23\n",
            "  Building wheel for feedfinder2 (setup.py): started\n",
            "  Building wheel for feedfinder2 (setup.py): finished with status 'done'\n",
            "  Created wheel for feedfinder2: filename=feedfinder2-0.0.4-py3-none-any.whl size=3377 sha256=73a38fbcd48899261426245ae8d047448622aa9aba9d5b5ab246ceb19a4bf29e\n",
            "  Stored in directory: c:\\users\\admin\\appdata\\local\\pip\\cache\\wheels\\97\\02\\e7\\a1ff1760e12bdbaab0ac824fae5c1bc933e41c4ccd6a8f8edb\n",
            "  Building wheel for jieba3k (setup.py): started\n",
            "  Building wheel for jieba3k (setup.py): finished with status 'done'\n",
            "  Created wheel for jieba3k: filename=jieba3k-0.35.1-py3-none-any.whl size=7398412 sha256=ffd33dbf7bdf3c50f55713683c1abd1a43a358d2f400cfab78fadc1d8303330c\n",
            "  Stored in directory: c:\\users\\admin\\appdata\\local\\pip\\cache\\wheels\\7a\\c4\\0c\\12a9a314ecac499456c4c3b2fcc2f635a3b45a39dfbd240299\n",
            "  Building wheel for sgmllib3k (setup.py): started\n",
            "  Building wheel for sgmllib3k (setup.py): finished with status 'done'\n",
            "  Created wheel for sgmllib3k: filename=sgmllib3k-1.0.0-py3-none-any.whl size=6079 sha256=c81da0e8736c7f6ac42f8a190341ad636039b6a52b8d2e3fc4ab57cf387ec58a\n",
            "  Stored in directory: c:\\users\\admin\\appdata\\local\\pip\\cache\\wheels\\f0\\69\\93\\a47e9d621be168e9e33c7ce60524393c0b92ae83cf6c6e89c5\n",
            "Successfully built tinysegmenter feedfinder2 jieba3k sgmllib3k\n",
            "Installing collected packages: tinysegmenter, sgmllib3k, jieba3k, feedparser, cssselect, requests-file, feedfinder2, tldextract, newspaper3k\n",
            "Successfully installed cssselect-1.2.0 feedfinder2-0.0.4 feedparser-6.0.11 jieba3k-0.35.1 newspaper3k-0.2.8 requests-file-2.0.0 sgmllib3k-1.0.0 tinysegmenter-0.3 tldextract-5.1.2\n"
          ]
        },
        {
          "name": "stderr",
          "output_type": "stream",
          "text": [
            "WARNING: You are using pip version 22.0.4; however, version 24.0 is available.\n",
            "You should consider upgrading via the 'C:\\Users\\ADMIN\\AppData\\Local\\Programs\\Python\\Python310\\python.exe -m pip install --upgrade pip' command.\n"
          ]
        },
        {
          "name": "stdout",
          "output_type": "stream",
          "text": [
            "Requirement already satisfied: nltk in c:\\users\\admin\\appdata\\local\\programs\\python\\python310\\lib\\site-packages (3.8.1)"
          ]
        },
        {
          "name": "stderr",
          "output_type": "stream",
          "text": [
            "WARNING: You are using pip version 22.0.4; however, version 24.0 is available.\n",
            "You should consider upgrading via the 'C:\\Users\\ADMIN\\AppData\\Local\\Programs\\Python\\Python310\\python.exe -m pip install --upgrade pip' command.\n"
          ]
        },
        {
          "name": "stdout",
          "output_type": "stream",
          "text": [
            "\n",
            "Requirement already satisfied: joblib in c:\\users\\admin\\appdata\\local\\programs\\python\\python310\\lib\\site-packages (from nltk) (1.1.0)\n",
            "Requirement already satisfied: click in c:\\users\\admin\\appdata\\local\\programs\\python\\python310\\lib\\site-packages (from nltk) (8.0.4)\n",
            "Requirement already satisfied: tqdm in c:\\users\\admin\\appdata\\local\\programs\\python\\python310\\lib\\site-packages (from nltk) (4.64.1)\n",
            "Requirement already satisfied: regex>=2021.8.3 in c:\\users\\admin\\appdata\\local\\programs\\python\\python310\\lib\\site-packages (from nltk) (2022.9.13)\n",
            "Requirement already satisfied: colorama in c:\\users\\admin\\appdata\\roaming\\python\\python310\\site-packages (from click->nltk) (0.4.6)\n"
          ]
        }
      ],
      "source": [
        "! pip install newspaper3k\n",
        "! pip install nltk"
      ]
    },
    {
      "cell_type": "code",
      "execution_count": 3,
      "metadata": {
        "colab": {
          "base_uri": "https://localhost:8080/"
        },
        "id": "hmoqQBIyL4vY",
        "outputId": "b3158e01-a027-4c57-94d4-180ec200112e"
      },
      "outputs": [
        {
          "name": "stdout",
          "output_type": "stream",
          "text": [
            "Kỹ sư phần mềm được tạo từ AI với tên Devin có thể tự lập trình, hoạt động độc lập khi được giao nhiệm vụ, giúp kỹ sư con người giảm bớt thời gian làm việc.\n",
            "\n",
            "Ngày 13/3, Cognition Labs, startup về công nghệ trí tuệ nhân tạo tại Mỹ, công bố kỹ sư phát triển phần mềm AI đầu tiên trên thế giới. \"Devin là một đồng đội tài năng và không biết mệt, sẵn sàng làm cùng bạn hoặc tự hoàn thành nhiệm vụ để bạn đánh giá. Với Devin, các kỹ sư có thể tập trung vào những vấn đề thú vị hơn, các đội kỹ thuật có thể nỗ lực cho những mục tiêu tham vọng hơn\", Cognition cho biết.\n",
            "\n",
            "Minh họa về robot lập trình do ChatGPT tạo ra.\n",
            "\n",
            "Đây là sản phẩm của một nhóm kỹ sư đang làm việc tại nhiều công ty lớn như Google DeepMind, Waymo, Scale AI, được dẫn dắt bởi các kỹ sư gồm Scott Wu, Steven Hao và Walden Yan. Dù hoạt động một thời gian, Cognition Labs mới thực sự được thành lập vào đầu năm nay và gọi vốn được 21 triệu USD. Trong phần giới thiệu, họ mô tả mình là một \"nhóm nhỏ nhưng nhiều tài năng\", với những người sáng lập từng giành được 10 huy chương vàng Olympic Tin học quốc tế.\n",
            "\n",
            "Trước Devin, thế giới cũng có những trợ lý AI hỗ trợ lập trình như Github Copilot hoặc các chatbot ChatGPT, Google Bard. Tuy nhiên, Devin khác biệt vì có thể xử lý toàn bộ quá trình phát triển từ đầu đến cuối.\n",
            "\n",
            "Trong video giới thiệu, Scott Wu, CEO của Cognition Labs, đã mô tả cách người dùng Devin có thể viết code ban đầu, theo dõi dòng lệnh, kiểm tra và sửa lỗi, thậm chí quản lý những dự án trên nền tảng như Upwork. Devin có thể tìm kiếm trên Internet để học cách hoàn thành nhiệm vụ. Nhờ đó, các kỹ sư sẽ có trong tay một nhân viên AI đầy đủ năng lực để tham gia dự án thay vì một trợ lý chỉ có thể gợi ý những đoạn code.\n",
            "\n",
            "Giới thiệu về Devin - kỹ sư lập trình AI đầu tiên thế giới Đồng sáng lập Scott Wu giới thiệu về khả năng lập trình của Devin. Video: cognition-labs\n",
            "\n",
            "Để sử dụng, người dùng nhập câu lệnh bằng ngôn ngữ tự nhiên vào giao diện kiểu chatbot của Devin và kỹ sư AI này sẽ xử lý tiếp. Nó sẽ lên kế hoạch chi tiết để giải quyết vấn đề theo từng bước.\n",
            "\n",
            "Tiếp theo, Devin sẽ khởi động dự án bằng cách sử dụng những công cụ dành cho nhà phát triển. Nó sẽ viết code, khắc phục lỗi, kiểm tra và báo cáo tiến trình theo thời gian thực, cho phép người dùng theo dõi mọi thứ và đề phòng những điều ngoài ý muốn. Nếu thấy sai sót, người dùng có thể vào giao diện chat và ra lệnh cho AI thực hiện thay đổi. Điều này giúp các đội kỹ thuật giao một số nhiệm vụ của mình cho AI và tập trung vào các dự án sáng tạo hơn, đòi hỏi trí thông minh của con người.\n",
            "\n",
            "Trong thử nghiệm của Bloomberg, Devin có thể lập trình trò chơi Pong cơ bản và tạo một trang web trong chưa đầy 20 phút.\n",
            "\n",
            "Theo công bố của nhà phát triển, khi đánh giá dựa trên tiêu chuẩn SWE-Bench về việc giải quyết các vấn đề trên GitHub, Devin giải quyết chính xác 13,86% các vấn mà không cần hỗ trợ. Trong khi với mô hình trước đó, hiệu suất chỉ đạt 1,96% và cao nhất là 4,80% nếu được hỗ trợ.\n",
            "\n",
            "Hiệu suất giải quyết các vấn đề về lập trình của Devin so với các mô hình AI khác. Ảnh: cognition-labs\n",
            "\n",
            "Tuy nhiên, hiện Devin chưa được cung cấp rộng rãi mà chỉ dành cho một số người dùng đã đăng ký trước và được chọn. Nhà phát triển cho biết sản phẩm này chỉ là bước đầu trong việc phát triển các kỹ sư AI của mình.\n",
            "\n",
            "\"Chúng tôi đang phát triển những đồng đội AI với khả năng vượt xa công cụ AI hiện nay. Bằng cách giải quyết vấn đề lý luận, chúng tôi có thể mở ra những khả năng mới trong nhiều lĩnh vực - code chỉ là bước khởi đầu. Chúng tôi muốn giúp mọi người trên thế giới biến ý tưởng của họ thành hiện thực\", Cognition giải thích.\n",
            "\n",
            "Sản phẩm của Cogniton Labs được đánh giá là minh họa rõ nhất cho nhận định trước đó của nhà sáng lập Nvidia Jensen Huang. Tại một sự kiện cuối tháng 2 vừa qua, ông Huang từng gây sốc khi khuyên người trẻ không học viết mã.\n",
            "\n",
            "Theo ông, con người đang ở giai đoạn đầu của cuộc cách mạng AI và lập trình không còn là kỹ năng quan trọng nữa. Ông cho rằng trí tuệ nhân tạo đang đảm nhận công việc này ngày một tốt, do đó con người nên tập trung vào các chuyên môn có giá trị hơn như sinh học, giáo dục, sản xuất hoặc nông nghiệp.\n",
            "\n",
            "Thu Thảo - Lưu Quý\n",
            "{'https://s1.vnecdn.net/vnexpress/restruct/c/v2645/v2_2019/pc/images/graphics/menu-myvne.svg', 'https://iv1.vnecdn.net/vnexpress/images/web/2024/03/14/gioi-thieu-ve-devin-ky-su-lap-trinh-ai-dau-tien-the-gioi-1710407070.jpg?w=0&h=0&q=100&dpr=1&fit=crop&s=PbARo8gxLhDcPCZTLOSitg', 'https://i2-vnexpress.vnecdn.net/2024/03/14/ai-coding-1710410299-6906-1710410348.jpg?w=1200&h=0&q=100&dpr=1&fit=crop&s=PucLZQc41TcdHmcrkfIpXg', 'data:image/gif;base64,R0lGODlhAQABAAAAACH5BAEKAAEALAAAAAABAAEAAAICTAEAOw==', 'https://s1.vnecdn.net/vnexpress/restruct/i/v879/v2_2019/pc/graphics/logo.svg'}\n"
          ]
        }
      ],
      "source": [
        "from newspaper import Article\n",
        "article = Article('https://vnexpress.net/ky-su-phan-mem-ai-dau-tien-tren-the-gioi-4722040.html?fbclid=IwAR23csS8uOLzjsNYaerjOXuWATJUVzdBHBih7anoGJcbXERYEp8qs_rG4jM')\n",
        "article.download()\n",
        "article.parse()\n",
        "print(article.text)\n",
        "print(article.images)"
      ]
    },
    {
      "cell_type": "code",
      "execution_count": 4,
      "metadata": {
        "colab": {
          "base_uri": "https://localhost:8080/",
          "height": 137
        },
        "id": "gNIJaBRmMrOV",
        "outputId": "02dbc702-3155-4a31-bea7-0b2ebfaa2512"
      },
      "outputs": [
        {
          "data": {
            "text/plain": [
              "'Kỹ sư phần mềm được tạo từ AI với tên Devin có thể tự lập trình, hoạt động độc lập khi được giao nhiệm vụ, giúp kỹ sư con người giảm bớt thời gian làm việc.\\n\\nNgày 13/3, Cognition Labs, startup về công nghệ trí tuệ nhân tạo tại Mỹ, công bố kỹ sư phát triển phần mềm AI đầu tiên trên thế giới. \"Devin là một đồng đội tài năng và không biết mệt, sẵn sàng làm cùng bạn hoặc tự hoàn thành nhiệm vụ để bạn đánh giá. Với Devin, các kỹ sư có thể tập trung vào những vấn đề thú vị hơn, các đội kỹ thuật có thể nỗ lực cho những mục tiêu tham vọng hơn\", Cognition cho biết.\\n\\nMinh họa về robot lập trình do ChatGPT tạo ra.\\n\\nĐây là sản phẩm của một nhóm kỹ sư đang làm việc tại nhiều công ty lớn như Google DeepMind, Waymo, Scale AI, được dẫn dắt bởi các kỹ sư gồm Scott Wu, Steven Hao và Walden Yan. Dù hoạt động một thời gian, Cognition Labs mới thực sự được thành lập vào đầu năm nay và gọi vốn được 21 triệu USD. Trong phần giới thiệu, họ mô tả mình là một \"nhóm nhỏ nhưng nhiều tài năng\", với những người sáng lập từng giành được 10 huy chương vàng Olympic Tin học quốc tế.\\n\\nTrước Devin, thế giới cũng có những trợ lý AI hỗ trợ lập trình như Github Copilot hoặc các chatbot ChatGPT, Google Bard. Tuy nhiên, Devin khác biệt vì có thể xử lý toàn bộ quá trình phát triển từ đầu đến cuối.\\n\\nTrong video giới thiệu, Scott Wu, CEO của Cognition Labs, đã mô tả cách người dùng Devin có thể viết code ban đầu, theo dõi dòng lệnh, kiểm tra và sửa lỗi, thậm chí quản lý những dự án trên nền tảng như Upwork. Devin có thể tìm kiếm trên Internet để học cách hoàn thành nhiệm vụ. Nhờ đó, các kỹ sư sẽ có trong tay một nhân viên AI đầy đủ năng lực để tham gia dự án thay vì một trợ lý chỉ có thể gợi ý những đoạn code.\\n\\nGiới thiệu về Devin - kỹ sư lập trình AI đầu tiên thế giới Đồng sáng lập Scott Wu giới thiệu về khả năng lập trình của Devin. Video: cognition-labs\\n\\nĐể sử dụng, người dùng nhập câu lệnh bằng ngôn ngữ tự nhiên vào giao diện kiểu chatbot của Devin và kỹ sư AI này sẽ xử lý tiếp. Nó sẽ lên kế hoạch chi tiết để giải quyết vấn đề theo từng bước.\\n\\nTiếp theo, Devin sẽ khởi động dự án bằng cách sử dụng những công cụ dành cho nhà phát triển. Nó sẽ viết code, khắc phục lỗi, kiểm tra và báo cáo tiến trình theo thời gian thực, cho phép người dùng theo dõi mọi thứ và đề phòng những điều ngoài ý muốn. Nếu thấy sai sót, người dùng có thể vào giao diện chat và ra lệnh cho AI thực hiện thay đổi. Điều này giúp các đội kỹ thuật giao một số nhiệm vụ của mình cho AI và tập trung vào các dự án sáng tạo hơn, đòi hỏi trí thông minh của con người.\\n\\nTrong thử nghiệm của Bloomberg, Devin có thể lập trình trò chơi Pong cơ bản và tạo một trang web trong chưa đầy 20 phút.\\n\\nTheo công bố của nhà phát triển, khi đánh giá dựa trên tiêu chuẩn SWE-Bench về việc giải quyết các vấn đề trên GitHub, Devin giải quyết chính xác 13,86% các vấn mà không cần hỗ trợ. Trong khi với mô hình trước đó, hiệu suất chỉ đạt 1,96% và cao nhất là 4,80% nếu được hỗ trợ.\\n\\nHiệu suất giải quyết các vấn đề về lập trình của Devin so với các mô hình AI khác. Ảnh: cognition-labs\\n\\nTuy nhiên, hiện Devin chưa được cung cấp rộng rãi mà chỉ dành cho một số người dùng đã đăng ký trước và được chọn. Nhà phát triển cho biết sản phẩm này chỉ là bước đầu trong việc phát triển các kỹ sư AI của mình.\\n\\n\"Chúng tôi đang phát triển những đồng đội AI với khả năng vượt xa công cụ AI hiện nay. Bằng cách giải quyết vấn đề lý luận, chúng tôi có thể mở ra những khả năng mới trong nhiều lĩnh vực - code chỉ là bước khởi đầu. Chúng tôi muốn giúp mọi người trên thế giới biến ý tưởng của họ thành hiện thực\", Cognition giải thích.\\n\\nSản phẩm của Cogniton Labs được đánh giá là minh họa rõ nhất cho nhận định trước đó của nhà sáng lập Nvidia Jensen Huang. Tại một sự kiện cuối tháng 2 vừa qua, ông Huang từng gây sốc khi khuyên người trẻ không học viết mã.\\n\\nTheo ông, con người đang ở giai đoạn đầu của cuộc cách mạng AI và lập trình không còn là kỹ năng quan trọng nữa. Ông cho rằng trí tuệ nhân tạo đang đảm nhận công việc này ngày một tốt, do đó con người nên tập trung vào các chuyên môn có giá trị hơn như sinh học, giáo dục, sản xuất hoặc nông nghiệp.\\n\\nThu Thảo - Lưu Quý'"
            ]
          },
          "execution_count": 4,
          "metadata": {},
          "output_type": "execute_result"
        }
      ],
      "source": [
        "article.text"
      ]
    },
    {
      "cell_type": "code",
      "execution_count": 5,
      "metadata": {
        "colab": {
          "base_uri": "https://localhost:8080/"
        },
        "id": "xVqVwyfhL4va",
        "outputId": "2d9f697e-9017-4c42-e495-411031f96a29"
      },
      "outputs": [
        {
          "name": "stderr",
          "output_type": "stream",
          "text": [
            "[nltk_data] Downloading package punkt to\n",
            "[nltk_data]     C:\\Users\\ADMIN\\AppData\\Roaming\\nltk_data...\n",
            "[nltk_data]   Package punkt is already up-to-date!\n",
            "[nltk_data] Downloading package averaged_perceptron_tagger to\n",
            "[nltk_data]     C:\\Users\\ADMIN\\AppData\\Roaming\\nltk_data...\n",
            "[nltk_data]   Package averaged_perceptron_tagger is already up-to-\n",
            "[nltk_data]       date!\n"
          ]
        },
        {
          "name": "stdout",
          "output_type": "stream",
          "text": [
            "[('Kỹ', 'NNP'), ('sư', 'NN'), ('phần', 'NN'), ('mềm', 'NN'), ('được', 'NNP'), ('tạo', 'NN'), ('từ', 'NN'), ('AI', 'NNP'), ('với', 'NN'), ('tên', 'NN'), ('Devin', 'NNP'), ('có', 'NN'), ('thể', 'NN'), ('tự', 'NN'), ('lập', 'NN'), ('trình', 'NN'), (',', ','), ('hoạt', 'NN'), ('động', 'NNP'), ('độc', 'NNP'), ('lập', 'VBZ'), ('khi', 'FW'), ('được', 'NNP'), ('giao', 'NN'), ('nhiệm', 'NN'), ('vụ', 'NN'), (',', ','), ('giúp', 'NN'), ('kỹ', 'NN'), ('sư', 'NN'), ('con', 'NN'), ('người', 'JJ'), ('giảm', 'NN'), ('bớt', 'NN'), ('thời', 'NN'), ('gian', 'JJ'), ('làm', 'NN'), ('việc', 'NN'), ('.', '.'), ('Ngày', 'CC'), ('13/3', 'CD'), (',', ','), ('Cognition', 'NNP'), ('Labs', 'NNP'), (',', ','), ('startup', 'NN'), ('về', 'NN'), ('công', 'NN'), ('nghệ', 'JJ'), ('trí', 'NN'), ('tuệ', 'NN'), ('nhân', 'JJ'), ('tạo', 'NN'), ('tại', 'NN'), ('Mỹ', 'NNP'), (',', ','), ('công', 'NN'), ('bố', 'NN'), ('kỹ', 'NN'), ('sư', 'NN'), ('phát', 'NN'), ('triển', 'NN'), ('phần', 'NN'), ('mềm', 'NN'), ('AI', 'NNP'), ('đầu', 'NNP'), ('tiên', 'NN'), ('trên', 'NN'), ('thế', 'NN'), ('giới', 'NN'), ('.', '.'), ('``', '``'), ('Devin', 'NNP'), ('là', 'NN'), ('một', 'NN'), ('đồng', 'NNP'), ('đội', 'NNP'), ('tài', 'NN'), ('năng', 'NN'), ('và', 'NN'), ('không', 'NN'), ('biết', 'NN'), ('mệt', 'NN'), (',', ','), ('sẵn', 'JJ'), ('sàng', 'NN'), ('làm', 'NN'), ('cùng', 'NN'), ('bạn', 'NN'), ('hoặc', 'NN'), ('tự', 'NN'), ('hoàn', 'NN'), ('thành', 'NN'), ('nhiệm', 'JJ'), ('vụ', 'NN'), ('để', 'NNP'), ('bạn', 'NN'), ('đánh', 'NNP'), ('giá', 'NN'), ('.', '.'), ('Với', 'NNP'), ('Devin', 'NNP'), (',', ','), ('các', 'NN'), ('kỹ', 'NN'), ('sư', 'NN'), ('có', 'NN'), ('thể', 'NN'), ('tập', 'NN'), ('trung', 'NN'), ('vào', 'NN'), ('những', 'JJ'), ('vấn', 'NN'), ('đề', 'NNP'), ('thú', 'NN'), ('vị', 'NN'), ('hơn', 'NN'), (',', ','), ('các', 'NN'), ('đội', 'NNP'), ('kỹ', 'NNP'), ('thuật', 'NN'), ('có', 'NN'), ('thể', 'NN'), ('nỗ', 'JJ'), ('lực', 'NN'), ('cho', 'NN'), ('những', 'JJ'), ('mục', 'NN'), ('tiêu', 'NN'), ('tham', 'NN'), ('vọng', 'NN'), ('hơn', 'NN'), (\"''\", \"''\"), (',', ','), ('Cognition', 'NNP'), ('cho', 'NN'), ('biết', 'NN'), ('.', '.'), ('Minh', 'NNP'), ('họa', 'NN'), ('về', 'NN'), ('robot', 'NN'), ('lập', 'NN'), ('trình', 'NN'), ('do', 'VBP'), ('ChatGPT', 'NNP'), ('tạo', 'VB'), ('ra', 'NN'), ('.', '.'), ('Đây', 'CC'), ('là', 'JJ'), ('sản', 'NN'), ('phẩm', 'NN'), ('của', 'NN'), ('một', 'NN'), ('nhóm', 'JJ'), ('kỹ', 'NN'), ('sư', 'NN'), ('đang', 'NNP'), ('làm', 'NN'), ('việc', 'NN'), ('tại', 'NN'), ('nhiều', 'JJ'), ('công', 'NN'), ('ty', 'NN'), ('lớn', 'NN'), ('như', 'JJ'), ('Google', 'NNP'), ('DeepMind', 'NNP'), (',', ','), ('Waymo', 'NNP'), (',', ','), ('Scale', 'NNP'), ('AI', 'NNP'), (',', ','), ('được', 'NNP'), ('dẫn', 'VBZ'), ('dắt', 'JJ'), ('bởi', 'NN'), ('các', 'NN'), ('kỹ', 'NN'), ('sư', 'NN'), ('gồm', 'NN'), ('Scott', 'NNP'), ('Wu', 'NNP'), (',', ','), ('Steven', 'NNP'), ('Hao', 'NNP'), ('và', 'FW'), ('Walden', 'NNP'), ('Yan', 'NNP'), ('.', '.'), ('Dù', 'NNP'), ('hoạt', 'NN'), ('động', 'NNP'), ('một', 'NN'), ('thời', 'NN'), ('gian', 'NN'), (',', ','), ('Cognition', 'NNP'), ('Labs', 'NNP'), ('mới', 'NN'), ('thực', 'NN'), ('sự', 'NN'), ('được', 'NNP'), ('thành', 'NN'), ('lập', 'NN'), ('vào', 'NN'), ('đầu', 'NNP'), ('năm', 'CC'), ('nay', 'JJ'), ('và', 'NN'), ('gọi', 'NN'), ('vốn', 'NN'), ('được', 'VBD'), ('21', 'CD'), ('triệu', 'NN'), ('USD', 'NNP'), ('.', '.'), ('Trong', 'NNP'), ('phần', 'JJ'), ('giới', 'NN'), ('thiệu', 'NN'), (',', ','), ('họ', 'NN'), ('mô', 'NN'), ('tả', 'NN'), ('mình', 'NN'), ('là', 'NN'), ('một', 'NN'), ('``', '``'), ('nhóm', 'JJ'), ('nhỏ', 'NN'), ('nhưng', 'NN'), ('nhiều', 'JJ'), ('tài', 'NN'), ('năng', 'NN'), (\"''\", \"''\"), (',', ','), ('với', 'FW'), ('những', 'FW'), ('người', 'FW'), ('sáng', 'FW'), ('lập', 'FW'), ('từng', 'NN'), ('giành', 'NN'), ('được', 'VBD'), ('10', 'CD'), ('huy', 'NN'), ('chương', 'NN'), ('vàng', 'NN'), ('Olympic', 'NNP'), ('Tin', 'NNP'), ('học', 'NN'), ('quốc', 'NN'), ('tế', 'NN'), ('.', '.'), ('Trước', 'NNP'), ('Devin', 'NNP'), (',', ','), ('thế', 'NN'), ('giới', 'NN'), ('cũng', 'NN'), ('có', 'NN'), ('những', 'JJ'), ('trợ', 'NN'), ('lý', 'NN'), ('AI', 'NNP'), ('hỗ', 'NN'), ('trợ', 'NN'), ('lập', 'NN'), ('trình', 'NN'), ('như', 'JJ'), ('Github', 'NNP'), ('Copilot', 'NNP'), ('hoặc', 'NN'), ('các', 'NN'), ('chatbot', 'NN'), ('ChatGPT', 'NNP'), (',', ','), ('Google', 'NNP'), ('Bard', 'NNP'), ('.', '.'), ('Tuy', 'NNP'), ('nhiên', 'NN'), (',', ','), ('Devin', 'NNP'), ('khác', 'NNP'), ('biệt', 'NN'), ('vì', 'NN'), ('có', 'NN'), ('thể', 'NN'), ('xử', 'NNP'), ('lý', 'VBZ'), ('toàn', 'JJ'), ('bộ', 'NN'), ('quá', 'NN'), ('trình', 'NN'), ('phát', 'NN'), ('triển', 'NN'), ('từ', 'NN'), ('đầu', 'NNP'), ('đến', 'NNP'), ('cuối', 'NN'), ('.', '.'), ('Trong', 'NNP'), ('video', 'NN'), ('giới', 'NN'), ('thiệu', 'NN'), (',', ','), ('Scott', 'NNP'), ('Wu', 'NNP'), (',', ','), ('CEO', 'NNP'), ('của', 'VBZ'), ('Cognition', 'NNP'), ('Labs', 'NNP'), (',', ','), ('đã', 'NNP'), ('mô', 'NNP'), ('tả', 'NN'), ('cách', 'NN'), ('người', 'JJ'), ('dùng', 'NN'), ('Devin', 'NNP'), ('có', 'NN'), ('thể', 'NN'), ('viết', 'NN'), ('code', 'NN'), ('ban', 'NN'), ('đầu', 'NNP'), (',', ','), ('theo', 'NN'), ('dõi', 'NN'), ('dòng', 'NN'), ('lệnh', 'NN'), (',', ','), ('kiểm', 'VB'), ('tra', 'JJ'), ('và', 'NN'), ('sửa', 'NN'), ('lỗi', 'NN'), (',', ','), ('thậm', 'JJ'), ('chí', 'NN'), ('quản', 'NN'), ('lý', 'NN'), ('những', 'JJ'), ('dự', 'NN'), ('án', 'NNP'), ('trên', 'NN'), ('nền', 'NN'), ('tảng', 'NN'), ('như', 'JJ'), ('Upwork', 'NNP'), ('.', '.'), ('Devin', 'NNP'), ('có', 'NN'), ('thể', 'NN'), ('tìm', 'NN'), ('kiếm', 'NN'), ('trên', 'JJ'), ('Internet', 'NNP'), ('để', 'NNP'), ('học', 'NN'), ('cách', 'NN'), ('hoàn', 'NN'), ('thành', 'NN'), ('nhiệm', 'JJ'), ('vụ', 'NN'), ('.', '.'), ('Nhờ', 'NNP'), ('đó', 'NNP'), (',', ','), ('các', 'NN'), ('kỹ', 'NN'), ('sư', 'NN'), ('sẽ', 'NN'), ('có', 'NN'), ('trong', 'JJ'), ('tay', 'NN'), ('một', 'NN'), ('nhân', 'JJ'), ('viên', 'NN'), ('AI', 'NNP'), ('đầy', 'NNP'), ('đủ', 'NNP'), ('năng', 'MD'), ('lực', 'VB'), ('để', 'NNP'), ('tham', 'NNP'), ('gia', 'NN'), ('dự', 'NN'), ('án', 'NNP'), ('thay', 'NN'), ('vì', 'NN'), ('một', 'NN'), ('trợ', 'NN'), ('lý', 'NN'), ('chỉ', 'NN'), ('có', 'NN'), ('thể', 'NN'), ('gợi', 'NN'), ('ý', 'NNP'), ('những', 'CC'), ('đoạn', 'NNP'), ('code', 'NN'), ('.', '.'), ('Giới', 'NNP'), ('thiệu', 'JJ'), ('về', 'NN'), ('Devin', 'NNP'), ('-', ':'), ('kỹ', 'NN'), ('sư', 'NN'), ('lập', 'NN'), ('trình', 'NN'), ('AI', 'NNP'), ('đầu', 'NNP'), ('tiên', 'NN'), ('thế', 'NN'), ('giới', 'NN'), ('Đồng', 'NNP'), ('sáng', 'NN'), ('lập', 'NN'), ('Scott', 'NNP'), ('Wu', 'NNP'), ('giới', 'NN'), ('thiệu', 'NN'), ('về', 'NN'), ('khả', 'NN'), ('năng', 'JJ'), ('lập', 'NN'), ('trình', 'NN'), ('của', 'NN'), ('Devin', 'NNP'), ('.', '.'), ('Video', 'NN'), (':', ':'), ('cognition-labs', 'JJ'), ('Để', 'NNP'), ('sử', 'NN'), ('dụng', 'NN'), (',', ','), ('người', 'JJ'), ('dùng', 'NN'), ('nhập', 'NN'), ('câu', 'NN'), ('lệnh', 'NN'), ('bằng', 'NN'), ('ngôn', 'JJ'), ('ngữ', 'JJ'), ('tự', 'NN'), ('nhiên', 'NN'), ('vào', 'NN'), ('giao', 'NN'), ('diện', 'NN'), ('kiểu', 'NN'), ('chatbot', 'NN'), ('của', 'NN'), ('Devin', 'NNP'), ('và', 'NN'), ('kỹ', 'NN'), ('sư', 'NN'), ('AI', 'NNP'), ('này', 'CC'), ('sẽ', 'JJ'), ('xử', 'NNP'), ('lý', 'NN'), ('tiếp', 'NN'), ('.', '.'), ('Nó', 'NNP'), ('sẽ', 'VBD'), ('lên', 'JJ'), ('kế', 'NN'), ('hoạch', 'NN'), ('chi', 'NN'), ('tiết', 'NN'), ('để', 'NNP'), ('giải', 'NN'), ('quyết', 'NN'), ('vấn', 'NN'), ('đề', 'NNP'), ('theo', 'NN'), ('từng', 'NN'), ('bước', 'NN'), ('.', '.'), ('Tiếp', 'NNP'), ('theo', 'NN'), (',', ','), ('Devin', 'NNP'), ('sẽ', 'NN'), ('khởi', 'NN'), ('động', 'NNP'), ('dự', 'NN'), ('án', 'NNP'), ('bằng', 'NN'), ('cách', 'NN'), ('sử', 'NN'), ('dụng', 'NN'), ('những', 'JJ'), ('công', 'NN'), ('cụ', 'NN'), ('dành', 'NN'), ('cho', 'NN'), ('nhà', 'JJ'), ('phát', 'NN'), ('triển', 'NN'), ('.', '.'), ('Nó', 'NNP'), ('sẽ', 'VBD'), ('viết', 'JJ'), ('code', 'NN'), (',', ','), ('khắc', 'VB'), ('phục', 'NN'), ('lỗi', 'NN'), (',', ','), ('kiểm', 'VB'), ('tra', 'JJ'), ('và', 'NN'), ('báo', 'NN'), ('cáo', 'NN'), ('tiến', 'NN'), ('trình', 'NN'), ('theo', 'NN'), ('thời', 'NN'), ('gian', 'JJ'), ('thực', 'NN'), (',', ','), ('cho', 'JJ'), ('phép', 'NN'), ('người', 'NN'), ('dùng', 'NN'), ('theo', 'NN'), ('dõi', 'NN'), ('mọi', 'NN'), ('thứ', 'NN'), ('và', 'NN'), ('đề', 'NNP'), ('phòng', 'NN'), ('những', 'NN'), ('điều', 'NNP'), ('ngoài', 'CC'), ('ý', 'NNP'), ('muốn', 'NN'), ('.', '.'), ('Nếu', 'NNP'), ('thấy', 'JJ'), ('sai', 'NN'), ('sót', 'NN'), (',', ','), ('người', 'JJ'), ('dùng', 'NN'), ('có', 'NN'), ('thể', 'NN'), ('vào', 'NN'), ('giao', 'NN'), ('diện', 'NN'), ('chat', 'WP'), ('và', 'VBZ'), ('ra', 'NN'), ('lệnh', 'NN'), ('cho', 'NN'), ('AI', 'NNP'), ('thực', 'NN'), ('hiện', 'NN'), ('thay', 'NN'), ('đổi', 'NNP'), ('.', '.'), ('Điều', 'VB'), ('này', 'JJ'), ('giúp', 'NN'), ('các', 'NN'), ('đội', 'NNP'), ('kỹ', 'NNP'), ('thuật', 'NN'), ('giao', 'NN'), ('một', 'NN'), ('số', 'NN'), ('nhiệm', 'JJ'), ('vụ', 'NN'), ('của', 'NN'), ('mình', 'NN'), ('cho', 'NN'), ('AI', 'NNP'), ('và', 'NN'), ('tập', 'NN'), ('trung', 'NN'), ('vào', 'NN'), ('các', 'NN'), ('dự', 'NN'), ('án', 'NNP'), ('sáng', 'NN'), ('tạo', 'NN'), ('hơn', 'NN'), (',', ','), ('đòi', 'NNP'), ('hỏi', 'VBZ'), ('trí', 'JJ'), ('thông', 'NN'), ('minh', 'NN'), ('của', 'NN'), ('con', 'NN'), ('người', 'NN'), ('.', '.'), ('Trong', 'NNP'), ('thử', 'JJ'), ('nghiệm', 'NN'), ('của', 'NN'), ('Bloomberg', 'NNP'), (',', ','), ('Devin', 'NNP'), ('có', 'NN'), ('thể', 'NN'), ('lập', 'NN'), ('trình', 'NN'), ('trò', 'NN'), ('chơi', 'NN'), ('Pong', 'NNP'), ('cơ', 'NN'), ('bản', 'NN'), ('và', 'NN'), ('tạo', 'NN'), ('một', 'NN'), ('trang', 'NN'), ('web', 'NN'), ('trong', 'JJ'), ('chưa', 'NN'), ('đầy', 'VBD'), ('20', 'CD'), ('phút', 'NN'), ('.', '.'), ('Theo', 'NNP'), ('công', 'NN'), ('bố', 'NN'), ('của', 'NN'), ('nhà', 'JJ'), ('phát', 'NN'), ('triển', 'NN'), (',', ','), ('khi', 'VB'), ('đánh', 'NNP'), ('giá', 'NN'), ('dựa', 'NN'), ('trên', 'NN'), ('tiêu', 'NN'), ('chuẩn', 'VBD'), ('SWE-Bench', 'JJ'), ('về', 'NN'), ('việc', 'NN'), ('giải', 'NN'), ('quyết', 'NN'), ('các', 'NN'), ('vấn', 'NN'), ('đề', 'NNP'), ('trên', 'NN'), ('GitHub', 'NNP'), (',', ','), ('Devin', 'NNP'), ('giải', 'NN'), ('quyết', 'NN'), ('chính', 'NN'), ('xác', 'VBD'), ('13,86', 'CD'), ('%', 'NN'), ('các', 'NN'), ('vấn', 'NN'), ('mà', 'NN'), ('không', 'NN'), ('cần', 'NN'), ('hỗ', 'NN'), ('trợ', 'NN'), ('.', '.'), ('Trong', 'NNP'), ('khi', 'VBD'), ('với', 'JJ'), ('mô', 'NN'), ('hình', 'NN'), ('trước', 'NN'), ('đó', 'NNP'), (',', ','), ('hiệu', 'NN'), ('suất', 'NN'), ('chỉ', 'NN'), ('đạt', 'VBD'), ('1,96', 'CD'), ('%', 'NN'), ('và', 'NN'), ('cao', 'NN'), ('nhất', 'JJ'), ('là', 'RB'), ('4,80', 'CD'), ('%', 'NN'), ('nếu', 'JJ'), ('được', 'NNP'), ('hỗ', 'NN'), ('trợ', 'NN'), ('.', '.'), ('Hiệu', 'NNP'), ('suất', 'VBD'), ('giải', 'JJ'), ('quyết', 'NN'), ('các', 'NN'), ('vấn', 'NN'), ('đề', 'NNP'), ('về', 'NN'), ('lập', 'NN'), ('trình', 'NN'), ('của', 'NN'), ('Devin', 'NNP'), ('so', 'RB'), ('với', 'JJ'), ('các', 'NN'), ('mô', 'NN'), ('hình', 'NN'), ('AI', 'NNP'), ('khác', 'NN'), ('.', '.'), ('Ảnh', 'NN'), (':', ':'), ('cognition-labs', 'JJ'), ('Tuy', 'NNP'), ('nhiên', 'NN'), (',', ','), ('hiện', 'NN'), ('Devin', 'NNP'), ('chưa', 'NN'), ('được', 'NNP'), ('cung', 'NN'), ('cấp', 'NN'), ('rộng', 'NN'), ('rãi', 'NN'), ('mà', 'NN'), ('chỉ', 'NN'), ('dành', 'NN'), ('cho', 'NN'), ('một', 'NN'), ('số', 'NN'), ('người', 'JJ'), ('dùng', 'NN'), ('đã', 'NNP'), ('đăng', 'NNP'), ('ký', 'NNP'), ('trước', 'NN'), ('và', 'NN'), ('được', 'NNP'), ('chọn', 'NN'), ('.', '.'), ('Nhà', 'NNP'), ('phát', 'NN'), ('triển', 'NN'), ('cho', 'NN'), ('biết', 'NN'), ('sản', 'NN'), ('phẩm', 'NN'), ('này', 'JJ'), ('chỉ', 'NN'), ('là', 'NN'), ('bước', 'NN'), ('đầu', 'NNP'), ('trong', 'RB'), ('việc', 'RB'), ('phát', 'JJ'), ('triển', 'NN'), ('các', 'NN'), ('kỹ', 'NN'), ('sư', 'NN'), ('AI', 'NNP'), ('của', 'NN'), ('mình', 'NN'), ('.', '.'), ('``', '``'), ('Chúng', 'NNP'), ('tôi', 'NN'), ('đang', 'NNP'), ('phát', 'NN'), ('triển', 'NN'), ('những', 'JJ'), ('đồng', 'NNP'), ('đội', 'NNP'), ('AI', 'NNP'), ('với', 'NN'), ('khả', 'NN'), ('năng', 'JJ'), ('vượt', 'NN'), ('xa', 'NNP'), ('công', 'NN'), ('cụ', 'NN'), ('AI', 'NNP'), ('hiện', 'NN'), ('nay', 'NN'), ('.', '.'), ('Bằng', 'NNP'), ('cách', 'NN'), ('giải', 'NN'), ('quyết', 'NN'), ('vấn', 'NN'), ('đề', 'NNP'), ('lý', 'NN'), ('luận', 'NN'), (',', ','), ('chúng', 'NN'), ('tôi', 'NN'), ('có', 'NN'), ('thể', 'NN'), ('mở', 'NN'), ('ra', 'NN'), ('những', 'JJ'), ('khả', 'NN'), ('năng', 'NN'), ('mới', 'NN'), ('trong', 'JJ'), ('nhiều', 'JJ'), ('lĩnh', 'NN'), ('vực', 'SYM'), ('-', ':'), ('code', 'NN'), ('chỉ', 'NN'), ('là', 'NN'), ('bước', 'NN'), ('khởi', 'NN'), ('đầu', 'NNP'), ('.', '.'), ('Chúng', 'NNP'), ('tôi', 'JJ'), ('muốn', 'NN'), ('giúp', 'NN'), ('mọi', 'NN'), ('người', 'JJ'), ('trên', 'NN'), ('thế', 'NN'), ('giới', 'NN'), ('biến', 'NN'), ('ý', 'NNP'), ('tưởng', 'NN'), ('của', 'NN'), ('họ', 'NN'), ('thành', 'NN'), ('hiện', 'NN'), ('thực', 'NN'), (\"''\", \"''\"), (',', ','), ('Cognition', 'NNP'), ('giải', 'NN'), ('thích', 'NN'), ('.', '.'), ('Sản', 'NNP'), ('phẩm', 'NN'), ('của', 'NN'), ('Cogniton', 'NNP'), ('Labs', 'NNP'), ('được', 'NNP'), ('đánh', 'NNP'), ('giá', 'NN'), ('là', 'NN'), ('minh', 'NN'), ('họa', 'NN'), ('rõ', 'NN'), ('nhất', 'JJ'), ('cho', 'NN'), ('nhận', 'NN'), ('định', 'NNP'), ('trước', 'NN'), ('đó', 'NNP'), ('của', 'NN'), ('nhà', 'NN'), ('sáng', 'NN'), ('lập', 'JJ'), ('Nvidia', 'NNP'), ('Jensen', 'NNP'), ('Huang', 'NNP'), ('.', '.'), ('Tại', 'NNP'), ('một', 'NN'), ('sự', 'NN'), ('kiện', 'NN'), ('cuối', 'NN'), ('tháng', 'VBD'), ('2', 'CD'), ('vừa', 'NN'), ('qua', 'NN'), (',', ','), ('ông', 'NNP'), ('Huang', 'NNP'), ('từng', 'VBD'), ('gây', 'JJ'), ('sốc', 'NN'), ('khi', 'NN'), ('khuyên', 'NN'), ('người', 'JJ'), ('trẻ', 'NN'), ('không', 'NN'), ('học', 'NN'), ('viết', 'NN'), ('mã', 'NN'), ('.', '.'), ('Theo', 'NNP'), ('ông', 'NNP'), (',', ','), ('con', 'NN'), ('người', 'NN'), ('đang', 'NNP'), ('ở', 'NNP'), ('giai', 'NN'), ('đoạn', 'NNP'), ('đầu', 'NNP'), ('của', 'NN'), ('cuộc', 'NN'), ('cách', 'NN'), ('mạng', 'NN'), ('AI', 'NNP'), ('và', 'NN'), ('lập', 'NN'), ('trình', 'NN'), ('không', 'NN'), ('còn', 'NN'), ('là', 'NN'), ('kỹ', 'NN'), ('năng', 'JJ'), ('quan', 'JJ'), ('trọng', 'NN'), ('nữa', 'NN'), ('.', '.'), ('Ông', 'CC'), ('cho', 'JJ'), ('rằng', 'NN'), ('trí', 'NN'), ('tuệ', 'NN'), ('nhân', 'JJ'), ('tạo', 'NN'), ('đang', 'NNP'), ('đảm', 'NNP'), ('nhận', 'MD'), ('công', 'VB'), ('việc', 'JJ'), ('này', 'JJ'), ('ngày', 'NN'), ('một', 'NN'), ('tốt', 'NN'), (',', ','), ('do', 'VBP'), ('đó', 'VB'), ('con', 'VB'), ('người', 'JJ'), ('nên', 'JJ'), ('tập', 'NN'), ('trung', 'NN'), ('vào', 'NN'), ('các', 'NN'), ('chuyên', 'NN'), ('môn', 'NN'), ('có', 'NN'), ('giá', 'NN'), ('trị', 'NN'), ('hơn', 'NN'), ('như', 'JJ'), ('sinh', 'NN'), ('học', 'NN'), (',', ','), ('giáo', 'NN'), ('dục', 'NN'), (',', ','), ('sản', 'JJ'), ('xuất', 'NNP'), ('hoặc', 'NN'), ('nông', 'NN'), ('nghiệp', 'NN'), ('.', '.'), ('Thu', 'NNP'), ('Thảo', 'NNP'), ('-', ':'), ('Lưu', 'NNP'), ('Quý', 'NNP')]\n"
          ]
        }
      ],
      "source": [
        "import nltk\n",
        "from nltk.tokenize import word_tokenize\n",
        "nltk.download('punkt')\n",
        "nltk.download('averaged_perceptron_tagger')\n",
        "data = article.text\n",
        "tokenization = word_tokenize(data)\n",
        "result = nltk.pos_tag(tokenization)\n",
        "print(result)"
      ]
    },
    {
      "cell_type": "code",
      "execution_count": null,
      "metadata": {},
      "outputs": [],
      "source": []
    }
  ],
  "metadata": {
    "colab": {
      "provenance": []
    },
    "kernelspec": {
      "display_name": "aio_env",
      "language": "python",
      "name": "python3"
    },
    "language_info": {
      "codemirror_mode": {
        "name": "ipython",
        "version": 3
      },
      "file_extension": ".py",
      "mimetype": "text/x-python",
      "name": "python",
      "nbconvert_exporter": "python",
      "pygments_lexer": "ipython3",
      "version": "3.10.4"
    }
  },
  "nbformat": 4,
  "nbformat_minor": 0
}
