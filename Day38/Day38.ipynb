{
 "cells": [
  {
   "cell_type": "code",
   "execution_count": null,
   "metadata": {},
   "outputs": [],
   "source": [
    "# !pip install wandb\n",
    "# !wandb login"
   ]
  },
  {
   "cell_type": "code",
   "execution_count": null,
   "metadata": {},
   "outputs": [],
   "source": [
    "import pandas as pd\n",
    "import wandb"
   ]
  },
  {
   "cell_type": "code",
   "execution_count": null,
   "metadata": {},
   "outputs": [],
   "source": [
    "# Load the dataset\n",
    "data = pd.read_csv('advertising.csv')\n",
    "\n",
    "# Split the data into features and target\n",
    "X = data[['TV', 'Radio', 'Newspaper']]\n",
    "y = data['Sales']\n",
    "\n",
    "# Define the model functions\n",
    "def predict(X, w1, w2, w3, b):\n",
    "    return X['TV'] * w1 + X['Radio'] * w2 + X['Newspaper'] * w3 + b\n",
    "\n",
    "def gradient(y_hat, y, X):\n",
    "    dw1 = 2 * X['TV'] * (y_hat - y)\n",
    "    dw2 = 2 * X['Radio'] * (y_hat - y)\n",
    "    dw3 = 2 * X['Newspaper'] * (y_hat - y)\n",
    "    db = 2 * (y_hat - y)\n",
    "    return (dw1, dw2, dw3, db)\n",
    "\n",
    "def update_weights(w1, w2, w3, b, lr, dw1, dw2, dw3, db):\n",
    "    w1_new = w1 - lr * dw1\n",
    "    w2_new = w2 - lr * dw2\n",
    "    w3_new = w3 - lr * dw3\n",
    "    b_new = b - lr * db\n",
    "    return (w1_new, w2_new, w3_new, b_new)\n",
    "\n",
    "# Initialize weights and hyperparameters\n",
    "w1, w2, w3 = 0, 0, 0\n",
    "b = 1\n",
    "lr = 0.01\n",
    "epochs = 1000"
   ]
  },
  {
   "cell_type": "code",
   "execution_count": null,
   "metadata": {},
   "outputs": [],
   "source": [
    "# Initialize WandB project\n",
    "wandb.init(project=\"linear-regression-advertising\",\n",
    "           config={\"learning_rate\": lr, \"epochs\": epochs})\n",
    "\n",
    "# Log the dataset\n",
    "wandb.run.log({\"Dataset\": wandb.Table(dataframe=data)})\n",
    "\n",
    "# Training loop\n",
    "losses = []\n",
    "for epoch in range(epochs):\n",
    "    # For each epoch\n",
    "    for i in range(len(X)):\n",
    "        # Get a sample\n",
    "        x = X.iloc[i]\n",
    "        y_true = y.iloc[i]\n",
    "\n",
    "        # Predict y_hat\n",
    "        y_hat = predict(x, w1, w2, w3, b)\n",
    "\n",
    "        # Compute loss\n",
    "        loss = (y_hat - y_true) ** 2 / 2.0\n",
    "\n",
    "        # Log the loss with WandB\n",
    "        wandb.log({\"loss\": loss})\n",
    "\n",
    "        # Compute gradients\n",
    "        (dw1, dw2, dw3, db) = gradient(y_hat, y_true, x)\n",
    "\n",
    "        # Update weights\n",
    "        (w1, w2, w3, b) = update_weights(w1, w2, w3, b, lr, dw1, dw2, dw3, db)\n",
    "\n",
    "# Mark the run as finished\n",
    "wandb.finish()"
   ]
  }
 ],
 "metadata": {
  "language_info": {
   "name": "python"
  }
 },
 "nbformat": 4,
 "nbformat_minor": 2
}
