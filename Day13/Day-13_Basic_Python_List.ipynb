{
 "cells": [
  {
   "cell_type": "markdown",
   "metadata": {},
   "source": [
    "### Exercise\n",
    "Tạo List có tên là lst_data = [1, 1.1, None, 1.4, None, 1.5, None, 2.0]. Sau đó áp dụng phương pháp tìm kiếm để tìm vị trí có giá trị None trong lst_data theo 2 cách: tìm vị trí None đầu tiên và tìm tất cả vị trí có giá trị None"
   ]
  },
  {
   "cell_type": "code",
   "execution_count": 1,
   "metadata": {},
   "outputs": [],
   "source": [
    "lst_data = [1, 1.1, None, 1.4, None, 1.5, None, 2.0]"
   ]
  },
  {
   "cell_type": "code",
   "execution_count": 2,
   "metadata": {},
   "outputs": [
    {
     "name": "stdout",
     "output_type": "stream",
     "text": [
      " The first index of None value in the list lst_data2\n"
     ]
    }
   ],
   "source": [
    "# Find the first index of None value in the list lst_data\n",
    "for idx, data in enumerate(lst_data):\n",
    "    if data == None:\n",
    "        print(f\" The first index of None value in the list lst_data{idx}\")\n",
    "        break"
   ]
  },
  {
   "cell_type": "code",
   "execution_count": 3,
   "metadata": {},
   "outputs": [
    {
     "name": "stdout",
     "output_type": "stream",
     "text": [
      "All indexes of None value in the list lst_data [2, 4, 6]\n"
     ]
    }
   ],
   "source": [
    "# Find all indexes of None value in the list lst_data\n",
    "index = []\n",
    "for idx, data in enumerate(lst_data):\n",
    "    if data == None:\n",
    "        index.append(idx)\n",
    "print(f\"All indexes of None value in the list lst_data {index}\")"
   ]
  }
 ],
 "metadata": {
  "kernelspec": {
   "display_name": "tientt",
   "language": "python",
   "name": "python3"
  },
  "language_info": {
   "codemirror_mode": {
    "name": "ipython",
    "version": 3
   },
   "file_extension": ".py",
   "mimetype": "text/x-python",
   "name": "python",
   "nbconvert_exporter": "python",
   "pygments_lexer": "ipython3",
   "version": "3.10.4"
  }
 },
 "nbformat": 4,
 "nbformat_minor": 2
}
