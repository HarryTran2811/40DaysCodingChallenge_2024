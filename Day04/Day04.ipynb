{
 "cells": [
  {
   "cell_type": "markdown",
   "metadata": {},
   "source": [
    "### Bài 1:\n",
    "Tạo một biến *name* gán giá trị là tên một người sau đó in ra màn hình một thông báo chưa tên đó sử dụng f-string. Ví dụ *name* = \"Alice\", in ra màn hình nội dung là \"Alice is a great teacher!\""
   ]
  },
  {
   "cell_type": "markdown",
   "metadata": {},
   "source": [
    "### Bài 2:\n",
    "Tạo một biến và gán giá trị \"ms Taylor\" cho nó, sau đó thực hiện in ra màn hình giá trị biến đó được viết hoa ký tự đầu tiên mỗi từ hoặc viết hoa toàn bộ bằng chữ hoa, hoặc chứ thường."
   ]
  },
  {
   "cell_type": "code",
   "execution_count": 5,
   "metadata": {},
   "outputs": [],
   "source": [
    "import pytest\n",
    "from io import StringIO\n",
    "import sys"
   ]
  },
  {
   "cell_type": "code",
   "execution_count": 8,
   "metadata": {},
   "outputs": [],
   "source": [
    "def greet_with_name(name):\n",
    "    message = f\"{name} is a great teacher!\"\n",
    "    print(message)\n",
    "\n",
    "def modify_case(string):\n",
    "    title_case = string.title()\n",
    "    upper_case = string.upper()\n",
    "    lower_case = string.lower()\n",
    "    return title_case, upper_case, lower_case"
   ]
  },
  {
   "cell_type": "code",
   "execution_count": 9,
   "metadata": {},
   "outputs": [],
   "source": [
    "def test_greet_with_name():\n",
    "    name = \"Alice\"\n",
    "    captured_output = StringIO()\n",
    "    sys.stdout = captured_output\n",
    "    greet_with_name(name)\n",
    "    sys.stdout = sys.__stdout__\n",
    "    assert captured_output.getvalue() == \"Alice is a great teacher!\\n\"\n",
    "\n",
    "def test_modify_case():\n",
    "    string = \"ms Taylor\"\n",
    "    title_case, upper_case, lower_case = modify_case(string)\n",
    "    assert title_case == \"Ms Taylor\"\n",
    "    assert upper_case == \"MS TAYLOR\"\n",
    "    assert lower_case == \"ms taylor\"\n",
    "\n",
    "# Run the test cases\n",
    "test_greet_with_name()\n",
    "test_modify_case()"
   ]
  }
 ],
 "metadata": {
  "kernelspec": {
   "display_name": "chaupmbn",
   "language": "python",
   "name": "python3"
  },
  "language_info": {
   "codemirror_mode": {
    "name": "ipython",
    "version": 3
   },
   "file_extension": ".py",
   "mimetype": "text/x-python",
   "name": "python",
   "nbconvert_exporter": "python",
   "pygments_lexer": "ipython3",
   "version": "3.10.4"
  }
 },
 "nbformat": 4,
 "nbformat_minor": 2
}
